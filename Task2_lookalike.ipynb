{
 "cells": [
  {
   "cell_type": "code",
   "execution_count": 1,
   "id": "7881bb84-bed8-42d4-aeda-1d4a7a949aec",
   "metadata": {},
   "outputs": [],
   "source": [
    "                                                  #Task 2\n",
    "import pandas as pd\n",
    "import numpy as np\n",
    "from sklearn.preprocessing import StandardScaler\n",
    "from sklearn.metrics.pairwise import cosine_similarity\n",
    "\n"
   ]
  },
  {
   "cell_type": "code",
   "execution_count": 2,
   "id": "cb3f2f56-aacf-437a-afd2-df8a71b79657",
   "metadata": {},
   "outputs": [
    {
     "name": "stdout",
     "output_type": "stream",
     "text": [
      "Customers DataFrame:\n",
      "   CustomerID        CustomerName         Region  SignupDate\n",
      "0      C0001    Lawrence Carroll  South America  2022-07-10\n",
      "1      C0002      Elizabeth Lutz           Asia  2022-02-13\n",
      "2      C0003      Michael Rivera  South America  2024-03-07\n",
      "3      C0004  Kathleen Rodriguez  South America  2022-10-09\n",
      "4      C0005         Laura Weber           Asia  2022-08-15\n",
      "\n",
      "Numerical columns: []\n",
      "No numerical columns found for scaling.\n"
     ]
    }
   ],
   "source": [
    "# Example URLs (ensure these point to correct datasets)\n",
    "customers_url = 'https://drive.google.com/uc?id=1bu_--mo79VdUG9oin4ybfFGRUSXAe-WE'\n",
    "\n",
    "# Load dataset\n",
    "customers = pd.read_csv(customers_url)\n",
    "\n",
    "# Display the first few rows to understand the dataset\n",
    "print(\"Customers DataFrame:\\n\", customers.head())\n",
    "\n",
    "# Ensure 'CustomerID' exists before dropping\n",
    "if 'CustomerID' in customers.columns:\n",
    "    # Exclude non-numerical and irrelevant columns\n",
    "    numerical_columns = customers.select_dtypes(include=['float64', 'int64']).columns.tolist()\n",
    "    print(\"\\nNumerical columns:\", numerical_columns)\n",
    "\n",
    "    if numerical_columns:\n",
    "        # Scale only numerical columns\n",
    "        scaler = StandardScaler()\n",
    "        customer_features = scaler.fit_transform(customers[numerical_columns])\n",
    "\n",
    "        # Step 4: Calculate the cosine similarity matrix\n",
    "        similarity_matrix = cosine_similarity(customer_features)\n",
    "        print(\"\\nCosine Similarity Matrix:\\n\", similarity_matrix)\n",
    "    else:\n",
    "        print(\"No numerical columns found for scaling.\")\n",
    "else:\n",
    "    print(\"'CustomerID' column is missing or incorrectly specified.\")\n"
   ]
  },
  {
   "cell_type": "code",
   "execution_count": 3,
   "id": "8efc8459-c0cd-4bff-abdc-1a2482aed37d",
   "metadata": {},
   "outputs": [
    {
     "name": "stdout",
     "output_type": "stream",
     "text": [
      "Checking for missing values in customer data...\n",
      "CustomerID      0\n",
      "CustomerName    0\n",
      "Region          0\n",
      "SignupDate      0\n",
      "dtype: int64\n",
      "Lookalikes generated:\n",
      "{'C0001': [('C0151', np.float64(0.0)), ('C0126', np.float64(0.0)), ('C0191', np.float64(0.0))], 'C0002': [('C0166', np.float64(0.19)), ('C0175', np.float64(0.0)), ('C0115', np.float64(0.0))], 'C0003': [('C0151', np.float64(0.0)), ('C0126', np.float64(0.0)), ('C0191', np.float64(0.0))], 'C0004': [('C0191', np.float64(0.0)), ('C0151', np.float64(0.0)), ('C0126', np.float64(0.0))], 'C0005': [('C0115', np.float64(0.0)), ('C0175', np.float64(0.0)), ('C0002', np.float64(0.0))], 'C0006': [('C0151', np.float64(0.0)), ('C0126', np.float64(0.0)), ('C0191', np.float64(0.0))], 'C0007': [('C0053', np.float64(0.19)), ('C0115', np.float64(0.0)), ('C0175', np.float64(0.0))], 'C0008': [('C0055', np.float64(0.0)), ('C0038', np.float64(0.0)), ('C0029', np.float64(0.0))], 'C0009': [('C0105', np.float64(0.0)), ('C0111', np.float64(0.0)), ('C0063', np.float64(0.0))], 'C0010': [('C0105', np.float64(0.0)), ('C0053', np.float64(0.0)), ('C0111', np.float64(0.0))], 'C0011': [('C0151', np.float64(0.0)), ('C0195', np.float64(0.0)), ('C0191', np.float64(0.0))], 'C0012': [('C0151', np.float64(0.0)), ('C0126', np.float64(0.0)), ('C0191', np.float64(0.0))], 'C0013': [('C0151', np.float64(0.0)), ('C0126', np.float64(0.0)), ('C0191', np.float64(0.0))], 'C0014': [('C0105', np.float64(0.0)), ('C0100', np.float64(0.0)), ('C0053', np.float64(0.0))], 'C0015': [('C0055', np.float64(0.0)), ('C0029', np.float64(0.0)), ('C0038', np.float64(0.0))], 'C0016': [('C0055', np.float64(0.0)), ('C0038', np.float64(0.0)), ('C0029', np.float64(0.0))], 'C0017': [('C0105', np.float64(0.0)), ('C0111', np.float64(0.0)), ('C0166', np.float64(0.0))], 'C0018': [('C0110', np.float64(0.19)), ('C0038', np.float64(0.0)), ('C0029', np.float64(0.0))], 'C0019': [('C0105', np.float64(0.0)), ('C0053', np.float64(0.0)), ('C0111', np.float64(0.0))], 'C0020': [('C0055', np.float64(0.0)), ('C0038', np.float64(0.0)), ('C0029', np.float64(0.0))]}\n",
      "Output saved as Lookalike.csv\n"
     ]
    }
   ],
   "source": [
    "import requests\n",
    "from io import StringIO\n",
    "from sklearn.preprocessing import StandardScaler, OneHotEncoder\n",
    "from sklearn.metrics.pairwise import cosine_similarity\n",
    "\n",
    "# Step 1: Define function to download CSV from Google Drive\n",
    "def download_csv_from_google_drive(url):\n",
    "    try:\n",
    "        file_id = url.split('/d/')[1].split('/')[0]\n",
    "        download_url = f\"https://drive.google.com/uc?id={file_id}\"\n",
    "        response = requests.get(download_url)\n",
    "        response.raise_for_status()  # Check if the request was successful\n",
    "        return StringIO(response.text)\n",
    "    except Exception as e:\n",
    "        print(f\"Error downloading CSV: {e}\")\n",
    "        return None\n",
    "\n",
    "# Step 2: Load Data from Google Drive URLs\n",
    "customers_url = 'https://drive.google.com/file/d/1bu_--mo79VdUG9oin4ybfFGRUSXAe-WE/view?usp=sharing'  # Example URL for Customers.csv\n",
    "products_url = 'https://drive.google.com/file/d/1IKuDizVapw-hyktwfpoAoaGtHtTNHfd0/view?usp=sharing'  # Example URL for Products.csv\n",
    "\n",
    "customers_data = download_csv_from_google_drive(customers_url)\n",
    "products_data = download_csv_from_google_drive(products_url)\n",
    "\n",
    "if customers_data is None or products_data is None:\n",
    "    print(\"Error loading the data.\")\n",
    "else:\n",
    "    # Step 3: Load the CSV data into pandas DataFrames\n",
    "    customers = pd.read_csv(customers_data)\n",
    "    products = pd.read_csv(products_data)\n",
    "\n",
    "    # Step 4: Check for missing values in customer data\n",
    "    print(\"Checking for missing values in customer data...\")\n",
    "    print(customers.isna().sum())\n",
    "\n",
    "    # Step 5: Feature Engineering - Exclude non-numeric columns\n",
    "    # Identify columns that are numeric\n",
    "    numeric_columns = customers.select_dtypes(include=['number']).columns\n",
    "\n",
    "    # For categorical features, use one-hot encoding (if relevant)\n",
    "    categorical_columns = customers.select_dtypes(exclude=['number']).columns\n",
    "\n",
    "    # For categorical features, use one-hot encoding (if relevant)\n",
    "    encoder = OneHotEncoder(sparse_output=False)  # Updated argument here\n",
    "    encoded_categorical_data = encoder.fit_transform(customers[categorical_columns])\n",
    "\n",
    "    # Combine the numeric features and the encoded categorical data\n",
    "    numeric_data = customers[numeric_columns].values\n",
    "    customer_features = pd.concat([pd.DataFrame(numeric_data), pd.DataFrame(encoded_categorical_data)], axis=1)\n",
    "\n",
    "    # Step 6: Normalize the features\n",
    "    scaler = StandardScaler()\n",
    "    customer_features_scaled = scaler.fit_transform(customer_features)\n",
    "\n",
    "    # Step 7: Calculate Similarity\n",
    "    similarity_matrix = cosine_similarity(customer_features_scaled)\n",
    "\n",
    "    # Step 8: Generate Lookalikes\n",
    "    lookalikes = {}\n",
    "    for i, cust_id in enumerate(customers['CustomerID'][:20]):  # First 20 customers\n",
    "        similar_indices = similarity_matrix[i].argsort()[::-1][1:4]  # Top 3 similar excluding self\n",
    "        similar_scores = similarity_matrix[i][similar_indices]\n",
    "        lookalikes[cust_id] = [(customers['CustomerID'][j], round(score, 2)) for j, score in zip(similar_indices, similar_scores)]\n",
    "\n",
    "    # Step 9: Debugging - Print the lookalikes dictionary\n",
    "    print(\"Lookalikes generated:\")\n",
    "    print(lookalikes)\n",
    "\n",
    "    # Step 10: Save Lookalike.csv\n",
    "    try:\n",
    "        lookalike_df = pd.DataFrame({\n",
    "            'cust_id': lookalikes.keys(),\n",
    "            'lookalikes': [str(v) for v in lookalikes.values()]\n",
    "        })\n",
    "        lookalike_df.to_csv('Lookalike.csv', index=False)\n",
    "        print(\"Output saved as Lookalike.csv\")\n",
    "    except Exception as e:\n",
    "        print(f\"Error saving the file: {e}\")\n"
   ]
  },
  {
   "cell_type": "code",
   "execution_count": 4,
   "id": "2abf91b8-0747-4872-8856-6d07c6315ba7",
   "metadata": {},
   "outputs": [
    {
     "name": "stdout",
     "output_type": "stream",
     "text": [
      "  CustomerID  Cluster\n",
      "0      C0001        3\n",
      "1      C0002        3\n",
      "2      C0003        3\n",
      "3      C0004        3\n",
      "4      C0005        3\n",
      "Cluster\n",
      "3    195\n",
      "2      2\n",
      "4      1\n",
      "1      1\n",
      "0      1\n",
      "Name: count, dtype: int64\n"
     ]
    }
   ],
   "source": [
    "from sklearn.cluster import KMeans\n",
    "kmeans = KMeans(n_clusters=5)\n",
    "customer_clusters = kmeans.fit_predict(customer_features_scaled)\n",
    "customers['Cluster'] = customer_clusters\n",
    "print(customers[['CustomerID', 'Cluster']].head())\n",
    "print(customers['Cluster'].value_counts())\n"
   ]
  },
  {
   "cell_type": "code",
   "execution_count": null,
   "id": "cd6026fc-4957-4630-98d6-a075b3c53249",
   "metadata": {},
   "outputs": [],
   "source": []
  }
 ],
 "metadata": {
  "kernelspec": {
   "display_name": "Python 3 (ipykernel)",
   "language": "python",
   "name": "python3"
  },
  "language_info": {
   "codemirror_mode": {
    "name": "ipython",
    "version": 3
   },
   "file_extension": ".py",
   "mimetype": "text/x-python",
   "name": "python",
   "nbconvert_exporter": "python",
   "pygments_lexer": "ipython3",
   "version": "3.10.12"
  }
 },
 "nbformat": 4,
 "nbformat_minor": 5
}
